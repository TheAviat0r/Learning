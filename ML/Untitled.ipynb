{
 "cells": [
  {
   "cell_type": "code",
   "execution_count": 1,
   "metadata": {},
   "outputs": [
    {
     "name": "stdout",
     "output_type": "stream",
     "text": [
      "Populating the interactive namespace from numpy and matplotlib\n"
     ]
    }
   ],
   "source": [
    "# Python 2 and 3 compatibility\n",
    "# pip install future\n",
    "from __future__ import (absolute_import, division,\n",
    "                        print_function, unicode_literals)\n",
    "# отключим предупреждения Anaconda\n",
    "import warnings\n",
    "warnings.simplefilter('ignore')\n",
    "\n",
    "# будем отображать графики прямо в jupyter'e\n",
    "%pylab inline\n",
    "\n",
    "#увеличим дефолтный размер графиков\n",
    "from pylab import rcParams\n",
    "rcParams['figure.figsize'] = 8, 5\n",
    "import pandas as pd\n",
    "import seaborn as sns"
   ]
  },
  {
   "cell_type": "code",
   "execution_count": 2,
   "metadata": {},
   "outputs": [
    {
     "name": "stdout",
     "output_type": "stream",
     "text": [
      "<class 'pandas.core.frame.DataFrame'>\n",
      "RangeIndex: 16719 entries, 0 to 16718\n",
      "Data columns (total 16 columns):\n",
      "Name               16717 non-null object\n",
      "Platform           16719 non-null object\n",
      "Year_of_Release    16450 non-null float64\n",
      "Genre              16717 non-null object\n",
      "Publisher          16665 non-null object\n",
      "NA_Sales           16719 non-null float64\n",
      "EU_Sales           16719 non-null float64\n",
      "JP_Sales           16719 non-null float64\n",
      "Other_Sales        16719 non-null float64\n",
      "Global_Sales       16719 non-null float64\n",
      "Critic_Score       8137 non-null float64\n",
      "Critic_Count       8137 non-null float64\n",
      "User_Score         10015 non-null object\n",
      "User_Count         7590 non-null float64\n",
      "Developer          10096 non-null object\n",
      "Rating             9950 non-null object\n",
      "dtypes: float64(9), object(7)\n",
      "memory usage: 2.0+ MB\n"
     ]
    }
   ],
   "source": [
    "df = pd.read_csv('video_games.csv')\n",
    "df.info()"
   ]
  },
  {
   "cell_type": "code",
   "execution_count": 5,
   "metadata": {},
   "outputs": [
    {
     "data": {
      "text/plain": [
       "0          8\n",
       "1        NaN\n",
       "2        8.3\n",
       "3          8\n",
       "4        NaN\n",
       "5        NaN\n",
       "6        8.5\n",
       "7        6.6\n",
       "8        8.4\n",
       "9        NaN\n",
       "10       NaN\n",
       "11       8.6\n",
       "12       NaN\n",
       "13       7.7\n",
       "14       6.3\n",
       "15       7.4\n",
       "16       8.2\n",
       "17         9\n",
       "18       NaN\n",
       "19       7.9\n",
       "20       NaN\n",
       "21       NaN\n",
       "22       NaN\n",
       "23       8.1\n",
       "24       8.7\n",
       "25       NaN\n",
       "26       7.1\n",
       "27       NaN\n",
       "28       8.4\n",
       "29       3.4\n",
       "        ... \n",
       "16689    NaN\n",
       "16690    NaN\n",
       "16691    NaN\n",
       "16692    tbd\n",
       "16693    NaN\n",
       "16694    NaN\n",
       "16695    NaN\n",
       "16696    7.6\n",
       "16697    NaN\n",
       "16698    NaN\n",
       "16699    tbd\n",
       "16700    5.8\n",
       "16701    tbd\n",
       "16702    tbd\n",
       "16703    NaN\n",
       "16704    NaN\n",
       "16705    NaN\n",
       "16706    7.2\n",
       "16707    NaN\n",
       "16708    tbd\n",
       "16709    5.8\n",
       "16710    tbd\n",
       "16711    NaN\n",
       "16712    NaN\n",
       "16713    NaN\n",
       "16714    NaN\n",
       "16715    NaN\n",
       "16716    NaN\n",
       "16717    NaN\n",
       "16718    NaN\n",
       "Name: User_Score, Length: 16719, dtype: object"
      ]
     },
     "execution_count": 5,
     "metadata": {},
     "output_type": "execute_result"
    }
   ],
   "source": [
    "df['User_Score']"
   ]
  },
  {
   "cell_type": "code",
   "execution_count": null,
   "metadata": {
    "collapsed": true
   },
   "outputs": [],
   "source": []
  }
 ],
 "metadata": {
  "kernelspec": {
   "display_name": "Python 2",
   "language": "python",
   "name": "python2"
  },
  "language_info": {
   "codemirror_mode": {
    "name": "ipython",
    "version": 3
   },
   "file_extension": ".py",
   "mimetype": "text/x-python",
   "name": "python",
   "nbconvert_exporter": "python",
   "pygments_lexer": "ipython3",
   "version": "3.6.1"
  }
 },
 "nbformat": 4,
 "nbformat_minor": 2
}
